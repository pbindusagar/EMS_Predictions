{
 "cells": [
  {
   "cell_type": "code",
   "execution_count": 1,
   "metadata": {},
   "outputs": [
    {
     "name": "stdout",
     "output_type": "stream",
     "text": [
      "Requirement already satisfied: matplotlib in /Applications/anaconda3/lib/python3.7/site-packages (3.1.1)\n",
      "Requirement already satisfied: cycler>=0.10 in /Applications/anaconda3/lib/python3.7/site-packages (from matplotlib) (0.10.0)\n",
      "Requirement already satisfied: kiwisolver>=1.0.1 in /Applications/anaconda3/lib/python3.7/site-packages (from matplotlib) (1.1.0)\n",
      "Requirement already satisfied: pyparsing!=2.0.4,!=2.1.2,!=2.1.6,>=2.0.1 in /Applications/anaconda3/lib/python3.7/site-packages (from matplotlib) (2.4.2)\n",
      "Requirement already satisfied: python-dateutil>=2.1 in /Applications/anaconda3/lib/python3.7/site-packages (from matplotlib) (2.8.0)\n",
      "Requirement already satisfied: numpy>=1.11 in /Applications/anaconda3/lib/python3.7/site-packages (from matplotlib) (1.18.2)\n",
      "Requirement already satisfied: six in /Applications/anaconda3/lib/python3.7/site-packages (from cycler>=0.10->matplotlib) (1.12.0)\n",
      "Requirement already satisfied: setuptools in /Applications/anaconda3/lib/python3.7/site-packages (from kiwisolver>=1.0.1->matplotlib) (41.4.0)\n",
      "\u001b[33mWARNING: You are using pip version 20.1.1; however, version 20.2 is available.\n",
      "You should consider upgrading via the '/Applications/anaconda3/bin/python -m pip install --upgrade pip' command.\u001b[0m\n"
     ]
    }
   ],
   "source": [
    "!pip install matplotlib\n",
    "%matplotlib inline\n",
    "import matplotlib.pyplot as plt\n"
   ]
  },
  {
   "cell_type": "code",
   "execution_count": 2,
   "metadata": {},
   "outputs": [
    {
     "name": "stderr",
     "output_type": "stream",
     "text": [
      "/Applications/anaconda3/lib/python3.7/site-packages/sklearn/utils/deprecation.py:144: FutureWarning: The sklearn.datasets.samples_generator module is  deprecated in version 0.22 and will be removed in version 0.24. The corresponding classes / functions should instead be imported from sklearn.datasets. Anything that cannot be imported from sklearn.datasets is now part of the private API.\n",
      "  warnings.warn(message, FutureWarning)\n"
     ]
    },
    {
     "data": {
      "image/png": "[encoded data removed]",
      "text/plain": [
       "<Figure size 432x288 with 1 Axes>"
      ]
     },
     "metadata": {
      "needs_background": "light"
     },
     "output_type": "display_data"
    }
   ],
   "source": [
    "from sklearn.datasets.samples_generator import make_blobs\n",
    "X,Y_true = make_blobs(n_samples= 300, centers = 4,cluster_std = 0.60,random_state = 0)\n",
    "plt.scatter(X[:,0],X[:,1],s=50);"
   ]
  },
  {
   "cell_type": "code",
   "execution_count": 3,
   "metadata": {},
   "outputs": [
    {
     "data": {
      "text/plain": [
       "array([0, 2, 1, 2, 0, 0, 3, 1, 2, 2, 3, 2, 1, 2, 0, 1, 1, 0, 3, 3, 0, 0,\n",
       "       1, 3, 3, 1, 0, 1, 3, 1, 2, 2, 1, 2, 2, 2, 2, 2, 3, 0, 1, 3, 1, 1,\n",
       "       3, 3, 2, 3, 2, 0, 3, 0, 2, 0, 0, 3, 2, 3, 2, 0, 2, 1, 2, 3, 3, 3,\n",
       "       2, 0, 2, 3, 1, 3, 2, 3, 3, 2, 3, 1, 0, 2, 0, 1, 0, 0, 2, 1, 0, 1,\n",
       "       2, 2, 1, 0, 2, 3, 3, 1, 0, 0, 1, 3, 2, 0, 2, 0, 1, 0, 0, 1, 2, 1,\n",
       "       3, 3, 0, 2, 0, 1, 2, 0, 0, 1, 3, 0, 3, 0, 0, 0, 0, 3, 0, 3, 2, 3,\n",
       "       3, 0, 2, 3, 3, 2, 1, 2, 2, 3, 1, 3, 1, 3, 2, 1, 2, 2, 2, 1, 2, 1,\n",
       "       0, 3, 2, 3, 0, 1, 2, 1, 1, 0, 1, 3, 3, 1, 0, 1, 1, 2, 0, 1, 3, 2,\n",
       "       0, 0, 1, 3, 0, 1, 3, 3, 1, 1, 1, 1, 0, 2, 1, 3, 1, 1, 3, 3, 3, 1,\n",
       "       3, 2, 1, 3, 0, 3, 1, 2, 3, 2, 1, 2, 1, 3, 1, 1, 2, 3, 3, 0, 0, 1,\n",
       "       2, 0, 0, 3, 0, 3, 1, 2, 2, 1, 1, 2, 1, 0, 3, 1, 0, 3, 2, 3, 0, 1,\n",
       "       0, 2, 2, 2, 2, 3, 3, 2, 1, 3, 0, 1, 3, 3, 3, 0, 0, 2, 1, 1, 3, 0,\n",
       "       2, 3, 1, 2, 1, 0, 0, 3, 3, 1, 0, 0, 0, 1, 2, 2, 0, 0, 1, 0, 0, 0,\n",
       "       2, 3, 2, 1, 0, 0, 2, 2, 2, 0, 0, 1, 2, 3], dtype=int32)"
      ]
     },
     "execution_count": 3,
     "metadata": {},
     "output_type": "execute_result"
    }
   ],
   "source": [
    "from sklearn.cluster import KMeans\n",
    "kmeans= KMeans(n_clusters=4)\n",
    "kmeans.fit(X)\n",
    "Y_kmeans = kmeans.predict(X)\n",
    "Y_kmeans"
   ]
  },
  {
   "cell_type": "code",
   "execution_count": 4,
   "metadata": {},
   "outputs": [
    {
     "name": "stdout",
     "output_type": "stream",
     "text": [
      "Requirement already satisfied: pandas in /Applications/anaconda3/lib/python3.7/site-packages (1.0.3)\n",
      "Requirement already satisfied: python-dateutil>=2.6.1 in /Applications/anaconda3/lib/python3.7/site-packages (from pandas) (2.8.0)\n",
      "Requirement already satisfied: numpy>=1.13.3 in /Applications/anaconda3/lib/python3.7/site-packages (from pandas) (1.18.2)\n",
      "Requirement already satisfied: pytz>=2017.2 in /Applications/anaconda3/lib/python3.7/site-packages (from pandas) (2019.3)\n",
      "Requirement already satisfied: six>=1.5 in /Applications/anaconda3/lib/python3.7/site-packages (from python-dateutil>=2.6.1->pandas) (1.12.0)\n",
      "\u001b[33mWARNING: You are using pip version 20.1.1; however, version 20.2 is available.\n",
      "You should consider upgrading via the '/Applications/anaconda3/bin/python -m pip install --upgrade pip' command.\u001b[0m\n",
      "Requirement already satisfied: nltk in /Applications/anaconda3/lib/python3.7/site-packages (3.4.5)\n",
      "Requirement already satisfied: six in /Applications/anaconda3/lib/python3.7/site-packages (from nltk) (1.12.0)\n",
      "\u001b[33mWARNING: You are using pip version 20.1.1; however, version 20.2 is available.\n",
      "You should consider upgrading via the '/Applications/anaconda3/bin/python -m pip install --upgrade pip' command.\u001b[0m\n"
     ]
    },
    {
     "data": {
      "text/html": [
       "<div>\n",
       "<style scoped>\n",
       "    .dataframe tbody tr th:only-of-type {\n",
       "        vertical-align: middle;\n",
       "    }\n",
       "\n",
       "    .dataframe tbody tr th {\n",
       "        vertical-align: top;\n",
       "    }\n",
       "\n",
       "    .dataframe thead th {\n",
       "        text-align: right;\n",
       "    }\n",
       "</style>\n",
       "<table border=\"1\" class=\"dataframe\">\n",
       "  <thead>\n",
       "    <tr style=\"text-align: right;\">\n",
       "      <th></th>\n",
       "      <th>Security</th>\n",
       "      <th>MemoNumber</th>\n",
       "      <th>PackageName</th>\n",
       "      <th>ValuationDate</th>\n",
       "      <th>RuleName</th>\n",
       "      <th>Comment</th>\n",
       "      <th>updated by</th>\n",
       "      <th>updatedDateTime</th>\n",
       "    </tr>\n",
       "    <tr>\n",
       "      <th>UserBank</th>\n",
       "      <th></th>\n",
       "      <th></th>\n",
       "      <th></th>\n",
       "      <th></th>\n",
       "      <th></th>\n",
       "      <th></th>\n",
       "      <th></th>\n",
       "      <th></th>\n",
       "    </tr>\n",
       "  </thead>\n",
       "  <tbody>\n",
       "    <tr>\n",
       "      <th>BT</th>\n",
       "      <td>TEST12345</td>\n",
       "      <td>1</td>\n",
       "      <td>Package1</td>\n",
       "      <td>7/28/20</td>\n",
       "      <td>Rule1</td>\n",
       "      <td>Trade booked per Recap</td>\n",
       "      <td>R System</td>\n",
       "      <td>7/28/20 16:58</td>\n",
       "    </tr>\n",
       "    <tr>\n",
       "      <th>BT</th>\n",
       "      <td>TEST12346</td>\n",
       "      <td>2</td>\n",
       "      <td>Package1</td>\n",
       "      <td>7/28/20</td>\n",
       "      <td>Rule1</td>\n",
       "      <td>Trade booked per Recap</td>\n",
       "      <td>R System</td>\n",
       "      <td>7/28/20 16:58</td>\n",
       "    </tr>\n",
       "    <tr>\n",
       "      <th>BT</th>\n",
       "      <td>TEST12347</td>\n",
       "      <td>3</td>\n",
       "      <td>Package1</td>\n",
       "      <td>7/28/20</td>\n",
       "      <td>Rule2</td>\n",
       "      <td>valid, Trade booked as per recap</td>\n",
       "      <td>P System</td>\n",
       "      <td>7/28/20 16:30</td>\n",
       "    </tr>\n",
       "    <tr>\n",
       "      <th>BT</th>\n",
       "      <td>TEST12348</td>\n",
       "      <td>4</td>\n",
       "      <td>Package1</td>\n",
       "      <td>7/28/20</td>\n",
       "      <td>Rule1</td>\n",
       "      <td>Trade booked per Recap</td>\n",
       "      <td>P System</td>\n",
       "      <td>7/28/20 16:30</td>\n",
       "    </tr>\n",
       "    <tr>\n",
       "      <th>BT</th>\n",
       "      <td>TEST12349</td>\n",
       "      <td>5</td>\n",
       "      <td>Package1</td>\n",
       "      <td>7/28/20</td>\n",
       "      <td>Rule1</td>\n",
       "      <td>Trade booked per Recap</td>\n",
       "      <td>P System</td>\n",
       "      <td>7/28/20 16:30</td>\n",
       "    </tr>\n",
       "    <tr>\n",
       "      <th>BT</th>\n",
       "      <td>TEST12350</td>\n",
       "      <td>6</td>\n",
       "      <td>Package1</td>\n",
       "      <td>7/28/20</td>\n",
       "      <td>Rule1</td>\n",
       "      <td>Trade booked per Recap</td>\n",
       "      <td>R System</td>\n",
       "      <td>7/28/20 16:58</td>\n",
       "    </tr>\n",
       "    <tr>\n",
       "      <th>BT</th>\n",
       "      <td>TEST12351</td>\n",
       "      <td>7</td>\n",
       "      <td>Package1</td>\n",
       "      <td>7/28/20</td>\n",
       "      <td>Rule1</td>\n",
       "      <td>Trade booked per Recap</td>\n",
       "      <td>R System</td>\n",
       "      <td>7/28/20 16:58</td>\n",
       "    </tr>\n",
       "    <tr>\n",
       "      <th>BT</th>\n",
       "      <td>TEST12352</td>\n",
       "      <td>8</td>\n",
       "      <td>Package1</td>\n",
       "      <td>7/28/20</td>\n",
       "      <td>Rule2</td>\n",
       "      <td>verified valid</td>\n",
       "      <td>P System</td>\n",
       "      <td>7/28/20 16:30</td>\n",
       "    </tr>\n",
       "    <tr>\n",
       "      <th>BT</th>\n",
       "      <td>TEST12353</td>\n",
       "      <td>9</td>\n",
       "      <td>Package1</td>\n",
       "      <td>7/28/20</td>\n",
       "      <td>Rule1</td>\n",
       "      <td>valid trade ,  booked as per recap</td>\n",
       "      <td>P System</td>\n",
       "      <td>7/28/20 16:30</td>\n",
       "    </tr>\n",
       "    <tr>\n",
       "      <th>BT</th>\n",
       "      <td>TEST12354</td>\n",
       "      <td>10</td>\n",
       "      <td>Package1</td>\n",
       "      <td>7/28/20</td>\n",
       "      <td>Rule1</td>\n",
       "      <td>Not Duplicate, verified per recap</td>\n",
       "      <td>P System</td>\n",
       "      <td>7/28/20 16:30</td>\n",
       "    </tr>\n",
       "  </tbody>\n",
       "</table>\n",
       "</div>"
      ],
      "text/plain": [
       "           Security  MemoNumber PackageName ValuationDate RuleName  \\\n",
       "UserBank                                                             \n",
       "BT        TEST12345           1    Package1       7/28/20    Rule1   \n",
       "BT        TEST12346           2    Package1       7/28/20    Rule1   \n",
       "BT        TEST12347           3    Package1       7/28/20    Rule2   \n",
       "BT        TEST12348           4    Package1       7/28/20    Rule1   \n",
       "BT        TEST12349           5    Package1       7/28/20    Rule1   \n",
       "BT        TEST12350           6    Package1       7/28/20    Rule1   \n",
       "BT        TEST12351           7    Package1       7/28/20    Rule1   \n",
       "BT        TEST12352           8    Package1       7/28/20    Rule2   \n",
       "BT        TEST12353           9    Package1       7/28/20    Rule1   \n",
       "BT        TEST12354          10    Package1       7/28/20    Rule1   \n",
       "\n",
       "                                     Comment updated by updatedDateTime  \n",
       "UserBank                                                                 \n",
       "BT                    Trade booked per Recap   R System   7/28/20 16:58  \n",
       "BT                    Trade booked per Recap   R System   7/28/20 16:58  \n",
       "BT          valid, Trade booked as per recap   P System   7/28/20 16:30  \n",
       "BT                    Trade booked per Recap   P System   7/28/20 16:30  \n",
       "BT                    Trade booked per Recap   P System   7/28/20 16:30  \n",
       "BT                    Trade booked per Recap   R System   7/28/20 16:58  \n",
       "BT                    Trade booked per Recap   R System   7/28/20 16:58  \n",
       "BT                            verified valid   P System   7/28/20 16:30  \n",
       "BT        valid trade ,  booked as per recap   P System   7/28/20 16:30  \n",
       "BT         Not Duplicate, verified per recap   P System   7/28/20 16:30  "
      ]
     },
     "execution_count": 4,
     "metadata": {},
     "output_type": "execute_result"
    }
   ],
   "source": [
    "!pip install pandas\n",
    "import numpy as np # linear algebra\n",
    "import pandas as pd # data processing, CSV file I/O (e.g. pd.read_csv)\n",
    "from sklearn.cluster import KMeans \n",
    "from sklearn.feature_extraction.text import TfidfVectorizer\n",
    "from sklearn.decomposition import PCA\n",
    "from sklearn.preprocessing import normalize\n",
    "from sklearn.metrics import pairwise_distances\n",
    "!pip install nltk\n",
    "import nltk\n",
    "import string\n",
    "\n",
    "import matplotlib.pyplot as plt\n",
    "%matplotlib inline\n",
    "plt.style.use('fivethirtyeight')\n",
    "\n",
    "\n",
    "df = pd.read_csv('https://github.com/pbindusagar/EMS_Predictions/blob/master/EMS_Checks_CSV_File.csv?raw=true', index_col=0)\n",
    "df.head(15)"
   ]
  },
  {
   "cell_type": "code",
   "execution_count": 5,
   "metadata": {},
   "outputs": [
    {
     "data": {
      "text/plain": [
       "UserBank\n",
       "BT                Trade booked per Recap\n",
       "BT                Trade booked per Recap\n",
       "BT      valid, Trade booked as per recap\n",
       "BT                Trade booked per Recap\n",
       "BT                Trade booked per Recap\n",
       "BT                Trade booked per Recap\n",
       "BT                Trade booked per Recap\n",
       "BT                        verified valid\n",
       "BT    valid trade ,  booked as per recap\n",
       "BT     Not Duplicate, verified per recap\n",
       "Name: Comment, dtype: object"
      ]
     },
     "execution_count": 5,
     "metadata": {},
     "output_type": "execute_result"
    }
   ],
   "source": [
    "from sklearn.feature_extraction.text import TfidfVectorizer\n",
    "data = df['Comment']\n",
    "data.head(15)"
   ]
  },
  {
   "cell_type": "code",
   "execution_count": 6,
   "metadata": {},
   "outputs": [
    {
     "data": {
      "text/html": [
       "<div>\n",
       "<style scoped>\n",
       "    .dataframe tbody tr th:only-of-type {\n",
       "        vertical-align: middle;\n",
       "    }\n",
       "\n",
       "    .dataframe tbody tr th {\n",
       "        vertical-align: top;\n",
       "    }\n",
       "\n",
       "    .dataframe thead th {\n",
       "        text-align: right;\n",
       "    }\n",
       "</style>\n",
       "<table border=\"1\" class=\"dataframe\">\n",
       "  <thead>\n",
       "    <tr style=\"text-align: right;\">\n",
       "      <th></th>\n",
       "      <th>booked</th>\n",
       "      <th>duplicate</th>\n",
       "      <th>recap</th>\n",
       "      <th>trade</th>\n",
       "      <th>valid</th>\n",
       "      <th>verified</th>\n",
       "    </tr>\n",
       "  </thead>\n",
       "  <tbody>\n",
       "    <tr>\n",
       "      <th>0</th>\n",
       "      <td>0.594208</td>\n",
       "      <td>0.000000</td>\n",
       "      <td>0.542065</td>\n",
       "      <td>0.594208</td>\n",
       "      <td>0.000000</td>\n",
       "      <td>0.000000</td>\n",
       "    </tr>\n",
       "    <tr>\n",
       "      <th>1</th>\n",
       "      <td>0.594208</td>\n",
       "      <td>0.000000</td>\n",
       "      <td>0.542065</td>\n",
       "      <td>0.594208</td>\n",
       "      <td>0.000000</td>\n",
       "      <td>0.000000</td>\n",
       "    </tr>\n",
       "    <tr>\n",
       "      <th>2</th>\n",
       "      <td>0.421108</td>\n",
       "      <td>0.000000</td>\n",
       "      <td>0.384155</td>\n",
       "      <td>0.421108</td>\n",
       "      <td>0.705523</td>\n",
       "      <td>0.000000</td>\n",
       "    </tr>\n",
       "    <tr>\n",
       "      <th>3</th>\n",
       "      <td>0.594208</td>\n",
       "      <td>0.000000</td>\n",
       "      <td>0.542065</td>\n",
       "      <td>0.594208</td>\n",
       "      <td>0.000000</td>\n",
       "      <td>0.000000</td>\n",
       "    </tr>\n",
       "    <tr>\n",
       "      <th>4</th>\n",
       "      <td>0.594208</td>\n",
       "      <td>0.000000</td>\n",
       "      <td>0.542065</td>\n",
       "      <td>0.594208</td>\n",
       "      <td>0.000000</td>\n",
       "      <td>0.000000</td>\n",
       "    </tr>\n",
       "    <tr>\n",
       "      <th>5</th>\n",
       "      <td>0.594208</td>\n",
       "      <td>0.000000</td>\n",
       "      <td>0.542065</td>\n",
       "      <td>0.594208</td>\n",
       "      <td>0.000000</td>\n",
       "      <td>0.000000</td>\n",
       "    </tr>\n",
       "    <tr>\n",
       "      <th>6</th>\n",
       "      <td>0.594208</td>\n",
       "      <td>0.000000</td>\n",
       "      <td>0.542065</td>\n",
       "      <td>0.594208</td>\n",
       "      <td>0.000000</td>\n",
       "      <td>0.000000</td>\n",
       "    </tr>\n",
       "    <tr>\n",
       "      <th>7</th>\n",
       "      <td>0.000000</td>\n",
       "      <td>0.000000</td>\n",
       "      <td>0.000000</td>\n",
       "      <td>0.000000</td>\n",
       "      <td>0.658454</td>\n",
       "      <td>0.752621</td>\n",
       "    </tr>\n",
       "    <tr>\n",
       "      <th>8</th>\n",
       "      <td>0.421108</td>\n",
       "      <td>0.000000</td>\n",
       "      <td>0.384155</td>\n",
       "      <td>0.421108</td>\n",
       "      <td>0.705523</td>\n",
       "      <td>0.000000</td>\n",
       "    </tr>\n",
       "    <tr>\n",
       "      <th>9</th>\n",
       "      <td>0.000000</td>\n",
       "      <td>0.728039</td>\n",
       "      <td>0.294825</td>\n",
       "      <td>0.000000</td>\n",
       "      <td>0.000000</td>\n",
       "      <td>0.618900</td>\n",
       "    </tr>\n",
       "  </tbody>\n",
       "</table>\n",
       "</div>"
      ],
      "text/plain": [
       "     booked  duplicate     recap     trade     valid  verified\n",
       "0  0.594208   0.000000  0.542065  0.594208  0.000000  0.000000\n",
       "1  0.594208   0.000000  0.542065  0.594208  0.000000  0.000000\n",
       "2  0.421108   0.000000  0.384155  0.421108  0.705523  0.000000\n",
       "3  0.594208   0.000000  0.542065  0.594208  0.000000  0.000000\n",
       "4  0.594208   0.000000  0.542065  0.594208  0.000000  0.000000\n",
       "5  0.594208   0.000000  0.542065  0.594208  0.000000  0.000000\n",
       "6  0.594208   0.000000  0.542065  0.594208  0.000000  0.000000\n",
       "7  0.000000   0.000000  0.000000  0.000000  0.658454  0.752621\n",
       "8  0.421108   0.000000  0.384155  0.421108  0.705523  0.000000\n",
       "9  0.000000   0.728039  0.294825  0.000000  0.000000  0.618900"
      ]
     },
     "execution_count": 6,
     "metadata": {},
     "output_type": "execute_result"
    }
   ],
   "source": [
    "tf_idf_vectorizor = TfidfVectorizer(stop_words = 'english',#tokenizer = tokenize_and_stem,\n",
    "                             max_features = 20000)\n",
    "tf_idf = tf_idf_vectorizor.fit_transform(data)\n",
    "tf_idf_norm = normalize(tf_idf)\n",
    "tf_idf_array = tf_idf_norm.toarray()\n",
    "pd.DataFrame(tf_idf_array, columns=tf_idf_vectorizor.get_feature_names()).head(15)"
   ]
  },
  {
   "cell_type": "code",
   "execution_count": 7,
   "metadata": {},
   "outputs": [
    {
     "data": {
      "image/png": "[encoded data removed]",
      "text/plain": [
       "<Figure size 432x288 with 1 Axes>"
      ]
     },
     "metadata": {},
     "output_type": "display_data"
    }
   ],
   "source": [
    "from sklearn.cluster import KMeans\n",
    "sklearn_pca = PCA(n_components = 3)\n",
    "Y_sklearn = sklearn_pca.fit_transform(tf_idf_array)\n",
    "\n",
    "kmeans = KMeans(n_clusters=2, max_iter=600, algorithm = 'auto')\n",
    "fitted = kmeans.fit(Y_sklearn)\n",
    "prediction = kmeans.predict(Y_sklearn)\n",
    "\n",
    "plt.scatter(Y_sklearn[:, 0], Y_sklearn[:, 1], c=prediction, s=50, cmap='viridis')\n",
    "\n",
    "centers2 = fitted.cluster_centers_\n",
    "plt.scatter(centers2[:, 0], centers2[:, 1],c='red', s=300, alpha=0.6);"
   ]
  },
  {
   "cell_type": "code",
   "execution_count": 8,
   "metadata": {},
   "outputs": [
    {
     "data": {
      "text/plain": [
       "[    features     score\n",
       " 0      trade  0.550933\n",
       " 1     booked  0.550933\n",
       " 2      recap  0.502588\n",
       " 3      valid  0.176381\n",
       " 4   verified  0.000000\n",
       " 5  duplicate  0.000000,     features     score\n",
       " 0   verified  0.685760\n",
       " 1  duplicate  0.364020\n",
       " 2      valid  0.329227\n",
       " 3      recap  0.147413\n",
       " 4      trade  0.000000\n",
       " 5     booked  0.000000]"
      ]
     },
     "execution_count": 8,
     "metadata": {},
     "output_type": "execute_result"
    }
   ],
   "source": [
    "def get_top_features_cluster(tf_idf_array, prediction, n_feats):\n",
    "    labels = np.unique(prediction)\n",
    "    dfs = []\n",
    "    for label in labels:\n",
    "        id_temp = np.where(prediction==label) # indices for each cluster\n",
    "        x_means = np.mean(tf_idf_array[id_temp], axis = 0) # returns average score across cluster\n",
    "        sorted_means = np.argsort(x_means)[::-1][:n_feats] # indices with top 20 scores\n",
    "        features = tf_idf_vectorizor.get_feature_names()\n",
    "        best_features = [(features[i], x_means[i]) for i in sorted_means]\n",
    "        df = pd.DataFrame(best_features, columns = ['features', 'score'])\n",
    "        dfs.append(df)\n",
    "    return dfs\n",
    "dfs = get_top_features_cluster(tf_idf_array, prediction, 15)\n",
    "dfs"
   ]
  },
  {
   "cell_type": "code",
   "execution_count": 9,
   "metadata": {
    "scrolled": true
   },
   "outputs": [
    {
     "name": "stdout",
     "output_type": "stream",
     "text": [
      "Requirement already satisfied: seaborn in /Applications/anaconda3/lib/python3.7/site-packages (0.9.0)\n",
      "Requirement already satisfied: numpy>=1.9.3 in /Applications/anaconda3/lib/python3.7/site-packages (from seaborn) (1.18.2)\n",
      "Requirement already satisfied: matplotlib>=1.4.3 in /Applications/anaconda3/lib/python3.7/site-packages (from seaborn) (3.1.1)\n",
      "Requirement already satisfied: pandas>=0.15.2 in /Applications/anaconda3/lib/python3.7/site-packages (from seaborn) (1.0.3)\n",
      "Requirement already satisfied: scipy>=0.14.0 in /Applications/anaconda3/lib/python3.7/site-packages (from seaborn) (1.3.1)\n",
      "Requirement already satisfied: cycler>=0.10 in /Applications/anaconda3/lib/python3.7/site-packages (from matplotlib>=1.4.3->seaborn) (0.10.0)\n",
      "Requirement already satisfied: kiwisolver>=1.0.1 in /Applications/anaconda3/lib/python3.7/site-packages (from matplotlib>=1.4.3->seaborn) (1.1.0)\n",
      "Requirement already satisfied: pyparsing!=2.0.4,!=2.1.2,!=2.1.6,>=2.0.1 in /Applications/anaconda3/lib/python3.7/site-packages (from matplotlib>=1.4.3->seaborn) (2.4.2)\n",
      "Requirement already satisfied: python-dateutil>=2.1 in /Applications/anaconda3/lib/python3.7/site-packages (from matplotlib>=1.4.3->seaborn) (2.8.0)\n",
      "Requirement already satisfied: pytz>=2017.2 in /Applications/anaconda3/lib/python3.7/site-packages (from pandas>=0.15.2->seaborn) (2019.3)\n",
      "Requirement already satisfied: six in /Applications/anaconda3/lib/python3.7/site-packages (from cycler>=0.10->matplotlib>=1.4.3->seaborn) (1.12.0)\n",
      "Requirement already satisfied: setuptools in /Applications/anaconda3/lib/python3.7/site-packages (from kiwisolver>=1.0.1->matplotlib>=1.4.3->seaborn) (41.4.0)\n",
      "\u001b[33mWARNING: You are using pip version 20.1.1; however, version 20.2 is available.\n",
      "You should consider upgrading via the '/Applications/anaconda3/bin/python -m pip install --upgrade pip' command.\u001b[0m\n"
     ]
    },
    {
     "name": "stderr",
     "output_type": "stream",
     "text": [
      "/Applications/anaconda3/lib/python3.7/site-packages/statsmodels/tools/_testing.py:19: FutureWarning: pandas.util.testing is deprecated. Use the functions in the public API at pandas.testing instead.\n",
      "  import pandas.util.testing as tm\n"
     ]
    },
    {
     "data": {
      "text/plain": [
       "<matplotlib.axes._subplots.AxesSubplot at 0x1a308db850>"
      ]
     },
     "execution_count": 9,
     "metadata": {},
     "output_type": "execute_result"
    },
    {
     "data": {
      "image/png": "[encoded data removed]",
      "text/plain": [
       "<Figure size 576x432 with 1 Axes>"
      ]
     },
     "metadata": {},
     "output_type": "display_data"
    }
   ],
   "source": [
    "!pip install seaborn\n",
    "import seaborn as sns\n",
    "plt.figure(figsize=(8,6))\n",
    "sns.barplot(x = 'score' , y = 'features', orient = 'h' , data = dfs[0][:15])"
   ]
  }
 ],
 "metadata": {
  "kernelspec": {
   "display_name": "Python 3",
   "language": "python",
   "name": "python3"
  },
  "language_info": {
   "codemirror_mode": {
    "name": "ipython",
    "version": 3
   },
   "file_extension": ".py",
   "mimetype": "text/x-python",
   "name": "python",
   "nbconvert_exporter": "python",
   "pygments_lexer": "ipython3",
   "version": "3.7.4"
  }
 },
 "nbformat": 4,
 "nbformat_minor": 4
}
